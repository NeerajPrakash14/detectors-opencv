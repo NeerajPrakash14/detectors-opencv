{
 "cells": [
  {
   "cell_type": "code",
   "execution_count": 2,
   "metadata": {},
   "outputs": [],
   "source": [
    "from collections import OrderedDict\n",
    "import numpy as np\n",
    "import cv2\n",
    " \n",
    "class Colordetector:\n",
    "        def __init__(self):\n",
    "                # initialize the colors dictionary, containing the color\n",
    "                # name as the key and the RGB tuple as the value\n",
    "                colors = OrderedDict({\n",
    "                        \"Red\": (255, 0, 0),\n",
    "                        \"Green\": (0, 255, 0),\n",
    "                        \"Blue\": (0, 0, 255),\n",
    "                        \"Orange\": (255,160,0),\n",
    "                        \"Yellow\": (255, 255, 0)})\n",
    " \n",
    "                # allocate memory for the L*a*b* image, then initialize\n",
    "                # the color names list\n",
    "                self.lab = np.zeros((len(colors), 1, 3), dtype=\"uint8\")\n",
    "                self.colorNames = []\n",
    " \n",
    "                # loop over the colors dictionary\n",
    "                for (i, (name, rgb)) in enumerate(colors.items()):\n",
    "                        # update the L*a*b* array and the color names list\n",
    "                        self.lab[i] = rgb\n",
    "                        self.colorNames.append(name)\n",
    " \n",
    "                # convert the L*a*b* array from the RGB color space\n",
    "                # to L*a*b*\n",
    "                self.lab = cv2.cvtColor(self.lab, cv2.COLOR_RGB2LAB)\n",
    "\n",
    "\n",
    "\n",
    "\n",
    "\n",
    "        def label(self, image, c):\n",
    "                # construct a mask for the contour, then compute the\n",
    "                # average L*a*b* value for the masked region\n",
    "                mask = np.zeros(image.shape[:2], dtype=\"uint8\")\n",
    "                cv2.drawContours(mask, [c], -1, 255, -1)\n",
    "                mask = cv2.erode(mask, None, iterations=2)\n",
    "                mean = cv2.mean(image, mask=mask)[:3]\n",
    " \n",
    "                # initialize the minimum distance found thus far\n",
    "                minDist = (np.inf, None)\n",
    " \n",
    "                # loop over the known L*a*b* color values\n",
    "                for (i, row) in enumerate(self.lab):\n",
    "                        # compute the distance between the current L*a*b*\n",
    "                        # color value and the mean of the image\n",
    "                        d = np.linalg.norm(row[0] -  mean)\n",
    " \n",
    "                        # if the distance is smaller than the current distance,\n",
    "                        # then update the bookkeeping variable\n",
    "                        if d < minDist[0]:\n",
    "                                minDist = (d, i)\n",
    " \n",
    "                # return the name of the color with the smallest distance\n",
    "                return self.colorNames[minDist[1]]"
   ]
  },
  {
   "cell_type": "code",
   "execution_count": null,
   "metadata": {},
   "outputs": [],
   "source": []
  }
 ],
 "metadata": {
  "kernelspec": {
   "display_name": "Python 3",
   "language": "python",
   "name": "python3"
  },
  "language_info": {
   "codemirror_mode": {
    "name": "ipython",
    "version": 3
   },
   "file_extension": ".py",
   "mimetype": "text/x-python",
   "name": "python",
   "nbconvert_exporter": "python",
   "pygments_lexer": "ipython3",
   "version": "3.7.3"
  }
 },
 "nbformat": 4,
 "nbformat_minor": 2
}
